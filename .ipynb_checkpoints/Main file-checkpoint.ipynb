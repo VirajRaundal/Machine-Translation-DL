{
 "cells": [
  {
   "cell_type": "code",
   "execution_count": 5,
   "id": "76aebcd5",
   "metadata": {},
   "outputs": [],
   "source": [
    "import pandas as pd\n",
    "import numpy as np\n",
    "import math\n",
    "import spacy\n",
    "import random\n",
    "from tqdm import tqdm"
   ]
  },
  {
   "cell_type": "code",
   "execution_count": 6,
   "id": "3514306a",
   "metadata": {},
   "outputs": [],
   "source": [
    "import torch\n",
    "import torch.nn as nn\n",
    "import torchvision\n",
    "from torch.utils.data import Dataset, DataLoader\n",
    "#from torch.utils.tensorboard import SummaryWriter\n",
    "from torchtext.data import Field, BucketIterator\n",
    "import torch.optim as optim\n",
    "from torch.nn.utils.rnn import pad_sequence\n"
   ]
  },
  {
   "cell_type": "code",
   "execution_count": 7,
   "id": "b21fc2a5",
   "metadata": {},
   "outputs": [],
   "source": [
    "from sklearn.model_selection import train_test_split"
   ]
  },
  {
   "cell_type": "code",
   "execution_count": 8,
   "id": "ee220bdb",
   "metadata": {},
   "outputs": [
    {
     "data": {
      "text/plain": [
       "'1.11.0'"
      ]
     },
     "execution_count": 8,
     "metadata": {},
     "output_type": "execute_result"
    }
   ],
   "source": [
    "torch.__version__\n",
    " "
   ]
  },
  {
   "cell_type": "code",
   "execution_count": 9,
   "id": "a8b83f41",
   "metadata": {},
   "outputs": [],
   "source": [
    "torch.cuda.set_per_process_memory_fraction(0.33, 0)\n",
    "device = torch.device(\"cuda\" if torch.cuda.is_available() else \"cpu\")\n",
    "#device = torch.device(\"cpu\")"
   ]
  },
  {
   "cell_type": "code",
   "execution_count": null,
   "id": "546636ee",
   "metadata": {},
   "outputs": [],
   "source": []
  },
  {
   "cell_type": "code",
   "execution_count": 10,
   "id": "82f8533b",
   "metadata": {},
   "outputs": [],
   "source": [
    "df = pd.read_csv('.//GERMAN_ENGLISH_TRANSLATION.csv')\n"
   ]
  },
  {
   "cell_type": "code",
   "execution_count": 11,
   "id": "4234d8b3",
   "metadata": {},
   "outputs": [],
   "source": [
    "df = df[['ENGLISH', 'GERMAN']]"
   ]
  },
  {
   "cell_type": "code",
   "execution_count": 12,
   "id": "c23b04ad",
   "metadata": {},
   "outputs": [
    {
     "data": {
      "text/html": [
       "<div>\n",
       "<style scoped>\n",
       "    .dataframe tbody tr th:only-of-type {\n",
       "        vertical-align: middle;\n",
       "    }\n",
       "\n",
       "    .dataframe tbody tr th {\n",
       "        vertical-align: top;\n",
       "    }\n",
       "\n",
       "    .dataframe thead th {\n",
       "        text-align: right;\n",
       "    }\n",
       "</style>\n",
       "<table border=\"1\" class=\"dataframe\">\n",
       "  <thead>\n",
       "    <tr style=\"text-align: right;\">\n",
       "      <th></th>\n",
       "      <th>ENGLISH</th>\n",
       "      <th>GERMAN</th>\n",
       "    </tr>\n",
       "  </thead>\n",
       "  <tbody>\n",
       "    <tr>\n",
       "      <th>0</th>\n",
       "      <td>hi</td>\n",
       "      <td>hallo</td>\n",
       "    </tr>\n",
       "    <tr>\n",
       "      <th>1</th>\n",
       "      <td>hi</td>\n",
       "      <td>gru gott</td>\n",
       "    </tr>\n",
       "    <tr>\n",
       "      <th>2</th>\n",
       "      <td>run</td>\n",
       "      <td>lauf</td>\n",
       "    </tr>\n",
       "    <tr>\n",
       "      <th>3</th>\n",
       "      <td>wow</td>\n",
       "      <td>potzdonner</td>\n",
       "    </tr>\n",
       "    <tr>\n",
       "      <th>4</th>\n",
       "      <td>wow</td>\n",
       "      <td>donnerwetter</td>\n",
       "    </tr>\n",
       "  </tbody>\n",
       "</table>\n",
       "</div>"
      ],
      "text/plain": [
       "  ENGLISH        GERMAN\n",
       "0      hi         hallo\n",
       "1      hi      gru gott\n",
       "2     run          lauf\n",
       "3     wow    potzdonner\n",
       "4     wow  donnerwetter"
      ]
     },
     "execution_count": 12,
     "metadata": {},
     "output_type": "execute_result"
    }
   ],
   "source": [
    "\n",
    "df.head()"
   ]
  },
  {
   "cell_type": "code",
   "execution_count": 13,
   "id": "99101f09",
   "metadata": {},
   "outputs": [],
   "source": [
    "train_df, valid_df = train_test_split(df, test_size=0.1, shuffle=True, random_state=28)"
   ]
  },
  {
   "cell_type": "code",
   "execution_count": 14,
   "id": "000001f9",
   "metadata": {},
   "outputs": [
    {
     "data": {
      "text/plain": [
       "137538"
      ]
     },
     "execution_count": 14,
     "metadata": {},
     "output_type": "execute_result"
    }
   ],
   "source": [
    "len(train_df)"
   ]
  },
  {
   "cell_type": "code",
   "execution_count": 15,
   "id": "8ceaf73f",
   "metadata": {},
   "outputs": [],
   "source": [
    "max_len_en = 20\n",
    "max_len_de = 20\n",
    "random_test = \"my name is gariman,sd,f,,, ,, , isn\""
   ]
  },
  {
   "cell_type": "code",
   "execution_count": 16,
   "id": "1101985d",
   "metadata": {},
   "outputs": [],
   "source": [
    "english_token = spacy.load(\"en_core_web_sm\")\n",
    "german_token = spacy.load(\"de_core_news_sm\")"
   ]
  },
  {
   "cell_type": "code",
   "execution_count": 17,
   "id": "1b863a3a",
   "metadata": {},
   "outputs": [],
   "source": [
    "german = Field(tokenize = german_token, tokenizer_language = 'de', lower = True,\n",
    "               init_token  = '<sos>', eos_token = '<eos>')"
   ]
  },
  {
   "cell_type": "code",
   "execution_count": 18,
   "id": "b38df8e5",
   "metadata": {},
   "outputs": [],
   "source": [
    "english = Field(tokenize = english_token, lower = True,\n",
    "              init_token  = '<sos>', eos_token = '<eos>')"
   ]
  },
  {
   "cell_type": "code",
   "execution_count": 19,
   "id": "b9a75707",
   "metadata": {},
   "outputs": [],
   "source": [
    "#[tok.text for tok in english_token(random_test)]"
   ]
  },
  {
   "cell_type": "code",
   "execution_count": null,
   "id": "663ddb10",
   "metadata": {},
   "outputs": [],
   "source": []
  },
  {
   "cell_type": "code",
   "execution_count": 20,
   "id": "c58d2b14",
   "metadata": {},
   "outputs": [],
   "source": [
    "class Vocabulary:\n",
    "    def __init__(self, freq_threshold= 2, lang = 'en_core_web_sm',preprocessor=None,\n",
    "                reverse = False):\n",
    "        self.itos = {0: \"<pad>\", 1: \"<sos>\", 2: \"<eos>\", 3: \"<unk>\"}\n",
    "        self.stoi = {\"<pad>\": 0, \"<sos>\": 1, \"<eos>\": 2, \"<unk>\": 3}\n",
    "        self.tokenizer = spacy.load(lang)\n",
    "        self.reverse = reverse\n",
    "        self.preprocessor = preprocessor\n",
    "        self.freq_threshold = freq_threshold\n",
    "        \n",
    "    def __len__(self):\n",
    "        return len(self.itos)\n",
    "    \n",
    "    def tokenize(self, text):\n",
    "        if self.reverse:\n",
    "            return [ token.text.lower() for token in self.tokenizer.tokenizer(text)][::-1]\n",
    "        else:\n",
    "            return [ token.text.lower() for token in self.tokenizer.tokenizer(text)]\n",
    "        \n",
    "    def build_vocabulary(self, sentence_list):\n",
    "        frequencies = {}\n",
    "        idx = len(self.itos)\n",
    "        \n",
    "        for sentence in sentence_list:\n",
    "            if self.preprocessor:\n",
    "                sentence = self.preprocessor(sentence)\n",
    "                \n",
    "            for word in self.tokenize(sentence):\n",
    "                if word in frequencies:\n",
    "                    frequencies[word] += 1\n",
    "                else:\n",
    "                    frequencies[word] = 1\n",
    "\n",
    "                if frequencies[word] == self.freq_threshold:\n",
    "                    self.stoi[word] = idx\n",
    "                    self.itos[idx] = word\n",
    "                    idx += 1\n",
    "                    \n",
    "                    \n",
    "\n",
    "    def numericalize(self, text):\n",
    "        tokenized_text = self.tokenize(text)\n",
    "\n",
    "        return [\n",
    "            self.stoi[token] if token in self.stoi else self.stoi[\"<unk>\"]\n",
    "            for token in tokenized_text\n",
    "        ]"
   ]
  },
  {
   "cell_type": "code",
   "execution_count": null,
   "id": "f12c8bc0",
   "metadata": {},
   "outputs": [],
   "source": []
  },
  {
   "cell_type": "code",
   "execution_count": 21,
   "id": "40e05d92",
   "metadata": {},
   "outputs": [],
   "source": [
    "freq_threshold = 2\n",
    "en_vocab = Vocabulary(freq_threshold=freq_threshold, reverse=False)\n",
    "de_vocab = Vocabulary(freq_threshold=freq_threshold, lang=\"de_core_news_sm\",  reverse=False)"
   ]
  },
  {
   "cell_type": "code",
   "execution_count": 22,
   "id": "c6de23c5",
   "metadata": {},
   "outputs": [],
   "source": [
    "en_vocab.build_vocabulary(train_df[\"ENGLISH\"])\n",
    "de_vocab.build_vocabulary(train_df[\"GERMAN\"])"
   ]
  },
  {
   "cell_type": "code",
   "execution_count": 23,
   "id": "729e8aeb",
   "metadata": {},
   "outputs": [
    {
     "data": {
      "text/plain": [
       "[2421, 883]"
      ]
     },
     "execution_count": 23,
     "metadata": {},
     "output_type": "execute_result"
    }
   ],
   "source": [
    "en_vocab.numericalize(\"hello everyone\")"
   ]
  },
  {
   "cell_type": "code",
   "execution_count": 24,
   "id": "893c31b5",
   "metadata": {},
   "outputs": [],
   "source": [
    "#train_dataset"
   ]
  },
  {
   "cell_type": "code",
   "execution_count": 25,
   "id": "3f69a53b",
   "metadata": {},
   "outputs": [],
   "source": [
    "class CustomTranslationDataset(Dataset):\n",
    "    def __init__(self, df, en_vocab, de_vocab):\n",
    "        super().__init__()\n",
    "        self.df = df\n",
    "        self.en_vocab = en_vocab\n",
    "        self.de_vocab = de_vocab\n",
    "        \n",
    "    def __len__(self):\n",
    "        return len(self.df)\n",
    "    \n",
    "    def get_numerical(self, sentence, vocab):\n",
    "        \"\"\"Numericalize given text using prebuilt vocab.\"\"\"\n",
    "        numericalized = [vocab.stoi[\"<sos>\"]]   #vocab here is a class which is made using the voculary class\n",
    "        numericalized.extend(vocab.numericalize(sentence))\n",
    "        numericalized.append(vocab.stoi[\"<eos>\"])\n",
    "        return numericalized\n",
    "    \n",
    "    \n",
    "    def __getitem__(self, index):\n",
    "        en_numericalized = self.get_numerical(self.df.iloc[index][\"ENGLISH\"], self.en_vocab)\n",
    "        de_numericalized = self.get_numerical(self.df.iloc[index][\"GERMAN\"], self.de_vocab)\n",
    "\n",
    "        return torch.tensor(de_numericalized), torch.tensor(en_numericalized)"
   ]
  },
  {
   "cell_type": "code",
   "execution_count": 26,
   "id": "edc196b2",
   "metadata": {},
   "outputs": [],
   "source": [
    "class CustomCollate:\n",
    "    def __init__(self, pad_idx):\n",
    "        self.pad_idx = pad_idx\n",
    "        \n",
    "    def __call__(self, batch):\n",
    "        src = [item[0] for item in batch]\n",
    "        src = pad_sequence(src, batch_first=False, padding_value = self.pad_idx)\n",
    "        \n",
    "        target = [item[1] for item in batch]\n",
    "        target = pad_sequence(target, batch_first=False, padding_value = self.pad_idx)\n",
    "        \n",
    "        return src, target"
   ]
  },
  {
   "cell_type": "code",
   "execution_count": 27,
   "id": "3fac9dcf",
   "metadata": {},
   "outputs": [],
   "source": [
    "BATCH_SIZE = 16\n",
    "train_dataset = CustomTranslationDataset(train_df, en_vocab, de_vocab)\n",
    "valid_dataset = CustomTranslationDataset(valid_df, en_vocab, de_vocab)\n",
    "\n",
    "train_loader = DataLoader(dataset = train_dataset,\n",
    "                          batch_size=BATCH_SIZE,\n",
    "                          collate_fn=CustomCollate(pad_idx=en_vocab.stoi[\"<pad>\"]),\n",
    "                          num_workers=0)\n",
    "\n",
    "valid_loader = DataLoader(dataset = valid_dataset,\n",
    "                          batch_size=BATCH_SIZE,\n",
    "                          collate_fn=CustomCollate(pad_idx=en_vocab.stoi[\"<pad>\"]),\n",
    "                          num_workers=0)"
   ]
  },
  {
   "cell_type": "code",
   "execution_count": 47,
   "id": "1be9435a",
   "metadata": {},
   "outputs": [],
   "source": [
    "fun_de = np.vectorize(lambda x: de_vocab.itos[x])\n",
    "fun_en = np.vectorize(lambda x: en_vocab.itos[x])"
   ]
  },
  {
   "cell_type": "code",
   "execution_count": 48,
   "id": "4f57bdcd",
   "metadata": {},
   "outputs": [
    {
     "data": {
      "text/plain": [
       "8597"
      ]
     },
     "execution_count": 48,
     "metadata": {},
     "output_type": "execute_result"
    }
   ],
   "source": [
    "#this is to check is everything is working or not\n",
    "total_steps = len(train_loader)\n",
    "total_steps"
   ]
  },
  {
   "cell_type": "code",
   "execution_count": 49,
   "id": "fe1dd70f",
   "metadata": {},
   "outputs": [],
   "source": [
    "\n",
    "#t.next()[1][1].shape, t.next()[0][1].shape"
   ]
  },
  {
   "cell_type": "code",
   "execution_count": 30,
   "id": "9f53c497",
   "metadata": {},
   "outputs": [],
   "source": [
    "class Encoder(nn.Module):\n",
    "    def __init__(self, input_size,embedding_size, hidden_size, num_layers, dropout):\n",
    "        super(Encoder, self).__init__()\n",
    "        self.hidden_size = hidden_size\n",
    "        self.num_layers = num_layers\n",
    "        \n",
    "        \n",
    "        self.dropout = nn.Dropout(dropout)\n",
    "        self.embedding = nn.Embedding(input_size, embedding_size)\n",
    "        self.lstm = nn.LSTM(embedding_size, hidden_size, num_layers, dropout=dropout)\n",
    "\n",
    "        \n",
    "    def forward(self, x):\n",
    "        x = self.embedding(x)\n",
    "        x = self.dropout(x)\n",
    "        outputs, (hidden_state, cell_state) = self.lstm(x)\n",
    "        \n",
    "        return hidden_state, cell_state\n",
    "\n"
   ]
  },
  {
   "cell_type": "code",
   "execution_count": 31,
   "id": "faeea615",
   "metadata": {},
   "outputs": [],
   "source": [
    "class Decoder(nn.Module):\n",
    "    def __init__(self, output_dim, emb_dim, hidden_dim, n_layers, dropout=0.2):\n",
    "        super().__init__()\n",
    "        self.output_dim = output_dim\n",
    "        self.hidden_dim = hidden_dim\n",
    "        self.n_layers = n_layers\n",
    "        self.embedding = nn.Embedding(output_dim, emb_dim)\n",
    "        self.lstm = nn.LSTM(emb_dim, hidden_dim, n_layers, dropout=dropout)\n",
    "        self.dropout = nn.Dropout(dropout)\n",
    "        self.fc = nn.Linear(hidden_dim, output_dim)\n",
    "    \n",
    "    def forward(self, x, hidden_state, cell_state):\n",
    "        x = x.unsqueeze(0)\n",
    "        x = self.embedding(x)\n",
    "        x = self.dropout(x)\n",
    "        outputs, (hidden_state, cell_state) = self.lstm(x, (hidden_state, cell_state))\n",
    "        preds = self.fc(outputs.squeeze(0))\n",
    "        return preds, hidden_state, cell_state"
   ]
  },
  {
   "cell_type": "code",
   "execution_count": 32,
   "id": "99dd3db0",
   "metadata": {},
   "outputs": [],
   "source": [
    "class Seq2Seq(nn.Module):\n",
    "    def __init__(self, encoder, decoder):\n",
    "        super().__init__()\n",
    "        self.encoder = encoder\n",
    "        self.decoder = decoder\n",
    "    def forward(self, source, target, teacher_force_ratio=0.5):\n",
    "        batch_size = target.shape[1]\n",
    "        #(target_len, N)\n",
    "        target_len = target.shape[0]\n",
    "        target_vocab_size = len(en_vocab) #doubt here check again\n",
    "        #ouputs\n",
    "        outputs = torch.zeros(target_len, batch_size, target_vocab_size).to(device)\n",
    "        #ecnode source text using encoder\n",
    "        hidden_state, cell_state = self.encoder(source)\n",
    "        input = target[0,:] #check again\n",
    "        for t in range(1, target_len):\n",
    "            output, hidden_state, cell_state = self.decoder(input, hidden_state, cell_state)\n",
    "            outputs[t] = output\n",
    "            best_guess = output.argmax(1)\n",
    "            x = target[t] if random.random() < teacher_force_ratio else best_guess\n",
    "            \n",
    "        return outputs #retunrs an array of all batach sizes"
   ]
  },
  {
   "cell_type": "code",
   "execution_count": 33,
   "id": "43f5c15c",
   "metadata": {},
   "outputs": [],
   "source": [
    "num_epochs = 80\n",
    "learning_rate = 0.001\n"
   ]
  },
  {
   "cell_type": "code",
   "execution_count": 34,
   "id": "018eccf3",
   "metadata": {},
   "outputs": [],
   "source": [
    "load_model = False\n",
    "input_dim_encoder = len(de_vocab)\n",
    "input_dim_decoder = len(en_vocab)\n",
    "output_dim = len(en_vocab)"
   ]
  },
  {
   "cell_type": "code",
   "execution_count": 35,
   "id": "031eb43b",
   "metadata": {},
   "outputs": [],
   "source": [
    "embedding_size = 124\n",
    "hidden_dim = 512\n",
    "num_layers = 3\n",
    "dropout = 0.5"
   ]
  },
  {
   "cell_type": "code",
   "execution_count": 36,
   "id": "280f498a",
   "metadata": {},
   "outputs": [],
   "source": [
    "steps = 0\n",
    "encoder = Encoder(input_dim_encoder, embedding_size, hidden_dim, num_layers, dropout).to(device)\n",
    "decoder = Decoder(input_dim_decoder, embedding_size, hidden_dim, num_layers, dropout).to(device)"
   ]
  },
  {
   "cell_type": "code",
   "execution_count": 37,
   "id": "ab81fc34",
   "metadata": {},
   "outputs": [],
   "source": [
    "model = Seq2Seq(encoder, decoder).to(device)"
   ]
  },
  {
   "cell_type": "code",
   "execution_count": null,
   "id": "6255fde4",
   "metadata": {},
   "outputs": [],
   "source": []
  },
  {
   "cell_type": "code",
   "execution_count": 38,
   "id": "ef1d46e6",
   "metadata": {},
   "outputs": [
    {
     "data": {
      "text/plain": [
       "Seq2Seq(\n",
       "  (encoder): Encoder(\n",
       "    (dropout): Dropout(p=0.5, inplace=False)\n",
       "    (embedding): Embedding(15937, 124)\n",
       "    (lstm): LSTM(124, 512, num_layers=3, dropout=0.5)\n",
       "  )\n",
       "  (decoder): Decoder(\n",
       "    (embedding): Embedding(9720, 124)\n",
       "    (lstm): LSTM(124, 512, num_layers=3, dropout=0.5)\n",
       "    (dropout): Dropout(p=0.5, inplace=False)\n",
       "    (fc): Linear(in_features=512, out_features=9720, bias=True)\n",
       "  )\n",
       ")"
      ]
     },
     "execution_count": 38,
     "metadata": {},
     "output_type": "execute_result"
    }
   ],
   "source": [
    "def init_weights(m):\n",
    "    for name, param in m.named_parameters():\n",
    "        nn.init.uniform_(param.data, -0.08, 0.08)\n",
    "        \n",
    "model.apply(init_weights)"
   ]
  },
  {
   "cell_type": "code",
   "execution_count": 39,
   "id": "baef2bd2",
   "metadata": {},
   "outputs": [
    {
     "name": "stdout",
     "output_type": "stream",
     "text": [
      "The model has 19,186,068 trainable parameters\n"
     ]
    }
   ],
   "source": [
    "def count_parameters(model):\n",
    "    return sum(p.numel() for p in model.parameters() if p.requires_grad)\n",
    "\n",
    "print(f'The model has {count_parameters(model):,} trainable parameters')"
   ]
  },
  {
   "cell_type": "code",
   "execution_count": 40,
   "id": "382c0991",
   "metadata": {},
   "outputs": [],
   "source": [
    "optimizer = optim.Adam(model.parameters())\n",
    "criterion = nn.CrossEntropyLoss(ignore_index=en_vocab.stoi[\"<pad>\"])"
   ]
  },
  {
   "cell_type": "code",
   "execution_count": 41,
   "id": "27b45cfa",
   "metadata": {},
   "outputs": [],
   "source": [
    "epoch_loss = 0\n",
    "num_epochs=50"
   ]
  },
  {
   "cell_type": "code",
   "execution_count": 42,
   "id": "2685dbc8",
   "metadata": {
    "scrolled": false
   },
   "outputs": [],
   "source": [
    "def Train(model, iterator, optimizer, criterion):\n",
    "    epoch_loss = 0\n",
    "    model.train()\n",
    "    for batch_idx, batch in tqdm(enumerate(iterator), ncols = 75, desc =\"Train\", total = len(iterator)):\n",
    "        #print(batch_idx)\n",
    "        src = batch[0].to(device)\n",
    "        trg = batch[1].to(device)\n",
    "        optimizer.zero_grad()\n",
    "        output = model(src, trg)\n",
    "        \n",
    "        output_dim = output.shape[-1]\n",
    "        output = output[1:].view(-1, output_dim)\n",
    "        trg = trg[1:].view(-1)\n",
    "        \n",
    "        loss = criterion(output, trg)\n",
    "        loss.backward()\n",
    "        torch.nn.utils.clip_grad_norm_(model.parameters(), max_norm=1)\n",
    "        optimizer.step()\n",
    "        epoch_loss += loss.item()\n",
    "#         if batch_idx % 500 == 0:\n",
    "#             print(f\"epoch = {epoch+1} / {num_epochs}, step {batch_idx+1}/ {total_steps}\")\n",
    "        \n",
    "    return epoch_loss / len(iterator)\n"
   ]
  },
  {
   "cell_type": "code",
   "execution_count": 43,
   "id": "3e746332",
   "metadata": {},
   "outputs": [],
   "source": [
    "def Eval(model, iterator, criterion):\n",
    "    epoch_loss = 0\n",
    "    model.eval()\n",
    "    for batch_idx, batch in tqdm(enumerate(iterator), ncols = 75, desc =\"Valid\", total = len(iterator)):\n",
    "        #print(batch_idx)\n",
    "         with torch.no_grad():\n",
    "            src = batch[0].to(device)\n",
    "            trg = batch[1].to(device)\n",
    "            \n",
    "            output = model(src, trg, 0)\n",
    "\n",
    "            output_dim = output.shape[-1]\n",
    "            output = output[1:].view(-1, output_dim)\n",
    "            trg = trg[1:].view(-1)\n",
    "\n",
    "            loss = criterion(output, trg)\n",
    "            epoch_loss += loss.item()\n",
    "#         if batch_idx % 500 == 0:\n",
    "#             print(f\"epoch = {epoch+1} / {num_epochs}, step {batch_idx+1}/ {total_steps}\")\n",
    "        \n",
    "    return epoch_loss / len(iterator)\n"
   ]
  },
  {
   "cell_type": "code",
   "execution_count": 44,
   "id": "3a7450b8",
   "metadata": {},
   "outputs": [],
   "source": [
    "seq_len_en = 50\n",
    "\n",
    "def inference(model, sentence):\n",
    "    model.eval()\n",
    "    result = []\n",
    "\n",
    "    with torch.no_grad():\n",
    "        sentence = sentence.to(device)\n",
    "        \n",
    "        hidden_state, cell_state = model.encoder(sentence)\n",
    "\n",
    "        # First input to decoder is \"<sos>\"\n",
    "        inp = torch.tensor([en_vocab.stoi[\"<sos>\"]]).to(device)\n",
    "\n",
    "        # Decode the encoded vector using decoder until max length is reached or <eos> is generated.\n",
    "        for t in range(1, seq_len_en):\n",
    "            output, hidden_state, cell_state = model.decoder(inp, hidden_state, cell_state)\n",
    "            pred = output.argmax(1)\n",
    "            if pred == en_vocab.stoi[\"<eos>\"]:\n",
    "                break\n",
    "            result.append(en_vocab.itos[pred.item()])\n",
    "            inp = pred\n",
    "            \n",
    "    return \" \".join(result)"
   ]
  },
  {
   "cell_type": "code",
   "execution_count": 50,
   "id": "97e44b23",
   "metadata": {},
   "outputs": [
    {
     "data": {
      "text/plain": [
       "<All keys matched successfully>"
      ]
     },
     "execution_count": 50,
     "metadata": {},
     "output_type": "execute_result"
    }
   ],
   "source": [
    "model_path = 'D:\\\\code\\\\deep learning\\\\torch\\\\machine translation\\\\best_model\\\\best_model.pt'\n",
    "model.load_state_dict(torch.load(model_path))\n"
   ]
  },
  {
   "cell_type": "code",
   "execution_count": 51,
   "id": "9991baf8",
   "metadata": {
    "scrolled": true
   },
   "outputs": [
    {
     "name": "stdout",
     "output_type": "stream",
     "text": [
      "ich wunschte ich hatte mit ihr gehen konnen\n",
      "i wish i could have gone with her\n",
      "i wish i could could shopping you\n",
      "Epoch [0 / 50]\n"
     ]
    },
    {
     "name": "stderr",
     "output_type": "stream",
     "text": [
      "Train: 100%|███████████████████████████| 8597/8597 [26:37<00:00,  5.38it/s]\n",
      "Valid: 100%|█████████████████████████████| 956/956 [01:03<00:00, 14.99it/s]\n"
     ]
    },
    {
     "name": "stdout",
     "output_type": "stream",
     "text": [
      "\t Train Loss: 2.3482508123\n",
      "\t Val. Loss: 2.7896505874\n",
      "ich wunschte ich hatte mit ihr gehen konnen\n",
      "i wish i could have gone with her\n",
      "i wish i could have shopping you\n",
      "Epoch [1 / 50]\n"
     ]
    },
    {
     "name": "stderr",
     "output_type": "stream",
     "text": [
      "Train: 100%|███████████████████████████| 8597/8597 [25:15<00:00,  5.67it/s]\n",
      "Valid: 100%|█████████████████████████████| 956/956 [01:02<00:00, 15.20it/s]\n"
     ]
    },
    {
     "name": "stdout",
     "output_type": "stream",
     "text": [
      "\t Train Loss: 2.2437910526\n",
      "\t Val. Loss: 2.7725269126\n",
      "ich wunschte ich hatte mit ihr gehen konnen\n",
      "i wish i could have gone with her\n",
      "i wish i could could with you you\n",
      "Epoch [2 / 50]\n"
     ]
    },
    {
     "name": "stderr",
     "output_type": "stream",
     "text": [
      "Train: 100%|███████████████████████████| 8597/8597 [25:09<00:00,  5.70it/s]\n",
      "Valid: 100%|█████████████████████████████| 956/956 [01:02<00:00, 15.25it/s]\n"
     ]
    },
    {
     "name": "stdout",
     "output_type": "stream",
     "text": [
      "\t Train Loss: 2.1785800007\n",
      "\t Val. Loss: 2.7610205160\n",
      "ich wunschte ich hatte mit ihr gehen konnen\n",
      "i wish i could have gone with her\n",
      "i wish i could could her you you\n",
      "Epoch [3 / 50]\n"
     ]
    },
    {
     "name": "stderr",
     "output_type": "stream",
     "text": [
      "Train: 100%|███████████████████████████| 8597/8597 [25:08<00:00,  5.70it/s]\n",
      "Valid: 100%|█████████████████████████████| 956/956 [01:02<00:00, 15.17it/s]\n"
     ]
    },
    {
     "name": "stdout",
     "output_type": "stream",
     "text": [
      "\t Train Loss: 2.1202134404\n",
      "\t Val. Loss: 2.7550723088\n",
      "ich wunschte ich hatte mit ihr gehen konnen\n",
      "i wish i could have gone with her\n",
      "i wish i could could her with you\n",
      "Epoch [4 / 50]\n"
     ]
    },
    {
     "name": "stderr",
     "output_type": "stream",
     "text": [
      "Train: 100%|███████████████████████████| 8597/8597 [25:08<00:00,  5.70it/s]\n",
      "Valid: 100%|█████████████████████████████| 956/956 [01:03<00:00, 15.16it/s]\n"
     ]
    },
    {
     "name": "stdout",
     "output_type": "stream",
     "text": [
      "\t Train Loss: 2.0699768247\n",
      "\t Val. Loss: 2.7441804246\n",
      "ich wunschte ich hatte mit ihr gehen konnen\n",
      "i wish i could have gone with her\n",
      "i wish i could could able you you\n",
      "Epoch [5 / 50]\n"
     ]
    },
    {
     "name": "stderr",
     "output_type": "stream",
     "text": [
      "Train: 100%|███████████████████████████| 8597/8597 [25:06<00:00,  5.71it/s]\n",
      "Valid: 100%|█████████████████████████████| 956/956 [01:02<00:00, 15.30it/s]\n"
     ]
    },
    {
     "name": "stdout",
     "output_type": "stream",
     "text": [
      "\t Train Loss: 2.0243652082\n",
      "\t Val. Loss: 2.7395828707\n",
      "ich wunschte ich hatte mit ihr gehen konnen\n",
      "i wish i could have gone with her\n",
      "i wish i could could gone you\n",
      "Epoch [6 / 50]\n"
     ]
    },
    {
     "name": "stderr",
     "output_type": "stream",
     "text": [
      "Train: 100%|███████████████████████████| 8597/8597 [25:10<00:00,  5.69it/s]\n",
      "Valid: 100%|█████████████████████████████| 956/956 [01:02<00:00, 15.22it/s]\n"
     ]
    },
    {
     "name": "stdout",
     "output_type": "stream",
     "text": [
      "\t Train Loss: 1.9832825238\n",
      "\t Val. Loss: 2.7451251467\n",
      "ich wunschte ich hatte mit ihr gehen konnen\n",
      "i wish i could have gone with her\n",
      "i wish i had been gone with you\n",
      "Epoch [7 / 50]\n"
     ]
    },
    {
     "name": "stderr",
     "output_type": "stream",
     "text": [
      "Train: 100%|███████████████████████████| 8597/8597 [25:06<00:00,  5.71it/s]\n",
      "Valid: 100%|█████████████████████████████| 956/956 [01:02<00:00, 15.22it/s]\n"
     ]
    },
    {
     "name": "stdout",
     "output_type": "stream",
     "text": [
      "\t Train Loss: 1.9458151176\n",
      "\t Val. Loss: 2.7360986996\n",
      "ich wunschte ich hatte mit ihr gehen konnen\n",
      "i wish i could have gone with her\n",
      "i wish i had ve gone you you\n",
      "Epoch [8 / 50]\n"
     ]
    },
    {
     "name": "stderr",
     "output_type": "stream",
     "text": [
      "Train: 100%|███████████████████████████| 8597/8597 [25:04<00:00,  5.71it/s]\n",
      "Valid: 100%|█████████████████████████████| 956/956 [01:02<00:00, 15.18it/s]\n"
     ]
    },
    {
     "name": "stdout",
     "output_type": "stream",
     "text": [
      "\t Train Loss: 1.9138402583\n",
      "\t Val. Loss: 2.7257101869\n",
      "ich wunschte ich hatte mit ihr gehen konnen\n",
      "i wish i could have gone with her\n",
      "i wish i had been with with you\n",
      "Epoch [9 / 50]\n"
     ]
    },
    {
     "name": "stderr",
     "output_type": "stream",
     "text": [
      "Train: 100%|███████████████████████████| 8597/8597 [25:08<00:00,  5.70it/s]\n",
      "Valid: 100%|█████████████████████████████| 956/956 [01:03<00:00, 15.13it/s]\n"
     ]
    },
    {
     "name": "stdout",
     "output_type": "stream",
     "text": [
      "\t Train Loss: 1.8843591763\n",
      "\t Val. Loss: 2.7331995455\n",
      "ich wunschte ich hatte mit ihr gehen konnen\n",
      "i wish i could have gone with her\n",
      "i wish i had could with you you\n",
      "Epoch [10 / 50]\n"
     ]
    },
    {
     "name": "stderr",
     "output_type": "stream",
     "text": [
      "Train: 100%|███████████████████████████| 8597/8597 [25:11<00:00,  5.69it/s]\n",
      "Valid: 100%|█████████████████████████████| 956/956 [01:05<00:00, 14.55it/s]\n"
     ]
    },
    {
     "name": "stdout",
     "output_type": "stream",
     "text": [
      "\t Train Loss: 1.8531249394\n",
      "\t Val. Loss: 2.7303715337\n",
      "ich wunschte ich hatte mit ihr gehen konnen\n",
      "i wish i could have gone with her\n",
      "i wish i d could her with you\n",
      "Epoch [11 / 50]\n"
     ]
    },
    {
     "name": "stderr",
     "output_type": "stream",
     "text": [
      "Train:   1%|▏                            | 44/8597 [00:08<26:38,  5.35it/s]\n"
     ]
    },
    {
     "ename": "KeyboardInterrupt",
     "evalue": "",
     "output_type": "error",
     "traceback": [
      "\u001b[1;31m---------------------------------------------------------------------------\u001b[0m",
      "\u001b[1;31mKeyboardInterrupt\u001b[0m                         Traceback (most recent call last)",
      "Input \u001b[1;32mIn [51]\u001b[0m, in \u001b[0;36m<cell line: 16>\u001b[1;34m()\u001b[0m\n\u001b[0;32m     16\u001b[0m \u001b[38;5;28;01mfor\u001b[39;00m epoch \u001b[38;5;129;01min\u001b[39;00m \u001b[38;5;28mrange\u001b[39m(num_epochs):\n\u001b[0;32m     17\u001b[0m     \u001b[38;5;28mprint\u001b[39m(\u001b[38;5;124mf\u001b[39m\u001b[38;5;124m\"\u001b[39m\u001b[38;5;124mEpoch [\u001b[39m\u001b[38;5;132;01m{\u001b[39;00mepoch\u001b[38;5;132;01m}\u001b[39;00m\u001b[38;5;124m / \u001b[39m\u001b[38;5;132;01m{\u001b[39;00mnum_epochs\u001b[38;5;132;01m}\u001b[39;00m\u001b[38;5;124m]\u001b[39m\u001b[38;5;124m\"\u001b[39m)\n\u001b[1;32m---> 18\u001b[0m     train_loss \u001b[38;5;241m=\u001b[39m \u001b[43mTrain\u001b[49m\u001b[43m(\u001b[49m\u001b[43mmodel\u001b[49m\u001b[43m,\u001b[49m\u001b[43m \u001b[49m\u001b[43mtrain_loader\u001b[49m\u001b[43m,\u001b[49m\u001b[43m \u001b[49m\u001b[43moptimizer\u001b[49m\u001b[43m,\u001b[49m\u001b[43m \u001b[49m\u001b[43mcriterion\u001b[49m\u001b[43m)\u001b[49m\n\u001b[0;32m     19\u001b[0m     valid_loss \u001b[38;5;241m=\u001b[39m Eval(model, valid_loader, criterion)\n\u001b[0;32m     21\u001b[0m     \u001b[38;5;28;01mif\u001b[39;00m valid_loss \u001b[38;5;241m<\u001b[39m best_valid_loss:\n",
      "Input \u001b[1;32mIn [42]\u001b[0m, in \u001b[0;36mTrain\u001b[1;34m(model, iterator, optimizer, criterion)\u001b[0m\n\u001b[0;32m     13\u001b[0m trg \u001b[38;5;241m=\u001b[39m trg[\u001b[38;5;241m1\u001b[39m:]\u001b[38;5;241m.\u001b[39mview(\u001b[38;5;241m-\u001b[39m\u001b[38;5;241m1\u001b[39m)\n\u001b[0;32m     15\u001b[0m loss \u001b[38;5;241m=\u001b[39m criterion(output, trg)\n\u001b[1;32m---> 16\u001b[0m \u001b[43mloss\u001b[49m\u001b[38;5;241;43m.\u001b[39;49m\u001b[43mbackward\u001b[49m\u001b[43m(\u001b[49m\u001b[43m)\u001b[49m\n\u001b[0;32m     17\u001b[0m torch\u001b[38;5;241m.\u001b[39mnn\u001b[38;5;241m.\u001b[39mutils\u001b[38;5;241m.\u001b[39mclip_grad_norm_(model\u001b[38;5;241m.\u001b[39mparameters(), max_norm\u001b[38;5;241m=\u001b[39m\u001b[38;5;241m1\u001b[39m)\n\u001b[0;32m     18\u001b[0m optimizer\u001b[38;5;241m.\u001b[39mstep()\n",
      "File \u001b[1;32mD:\\code\\code\\envs\\torch\\lib\\site-packages\\torch\\_tensor.py:363\u001b[0m, in \u001b[0;36mTensor.backward\u001b[1;34m(self, gradient, retain_graph, create_graph, inputs)\u001b[0m\n\u001b[0;32m    354\u001b[0m \u001b[38;5;28;01mif\u001b[39;00m has_torch_function_unary(\u001b[38;5;28mself\u001b[39m):\n\u001b[0;32m    355\u001b[0m     \u001b[38;5;28;01mreturn\u001b[39;00m handle_torch_function(\n\u001b[0;32m    356\u001b[0m         Tensor\u001b[38;5;241m.\u001b[39mbackward,\n\u001b[0;32m    357\u001b[0m         (\u001b[38;5;28mself\u001b[39m,),\n\u001b[1;32m   (...)\u001b[0m\n\u001b[0;32m    361\u001b[0m         create_graph\u001b[38;5;241m=\u001b[39mcreate_graph,\n\u001b[0;32m    362\u001b[0m         inputs\u001b[38;5;241m=\u001b[39minputs)\n\u001b[1;32m--> 363\u001b[0m \u001b[43mtorch\u001b[49m\u001b[38;5;241;43m.\u001b[39;49m\u001b[43mautograd\u001b[49m\u001b[38;5;241;43m.\u001b[39;49m\u001b[43mbackward\u001b[49m\u001b[43m(\u001b[49m\u001b[38;5;28;43mself\u001b[39;49m\u001b[43m,\u001b[49m\u001b[43m \u001b[49m\u001b[43mgradient\u001b[49m\u001b[43m,\u001b[49m\u001b[43m \u001b[49m\u001b[43mretain_graph\u001b[49m\u001b[43m,\u001b[49m\u001b[43m \u001b[49m\u001b[43mcreate_graph\u001b[49m\u001b[43m,\u001b[49m\u001b[43m \u001b[49m\u001b[43minputs\u001b[49m\u001b[38;5;241;43m=\u001b[39;49m\u001b[43minputs\u001b[49m\u001b[43m)\u001b[49m\n",
      "File \u001b[1;32mD:\\code\\code\\envs\\torch\\lib\\site-packages\\torch\\autograd\\__init__.py:173\u001b[0m, in \u001b[0;36mbackward\u001b[1;34m(tensors, grad_tensors, retain_graph, create_graph, grad_variables, inputs)\u001b[0m\n\u001b[0;32m    168\u001b[0m     retain_graph \u001b[38;5;241m=\u001b[39m create_graph\n\u001b[0;32m    170\u001b[0m \u001b[38;5;66;03m# The reason we repeat same the comment below is that\u001b[39;00m\n\u001b[0;32m    171\u001b[0m \u001b[38;5;66;03m# some Python versions print out the first line of a multi-line function\u001b[39;00m\n\u001b[0;32m    172\u001b[0m \u001b[38;5;66;03m# calls in the traceback and some print out the last line\u001b[39;00m\n\u001b[1;32m--> 173\u001b[0m \u001b[43mVariable\u001b[49m\u001b[38;5;241;43m.\u001b[39;49m\u001b[43m_execution_engine\u001b[49m\u001b[38;5;241;43m.\u001b[39;49m\u001b[43mrun_backward\u001b[49m\u001b[43m(\u001b[49m\u001b[43m  \u001b[49m\u001b[38;5;66;43;03m# Calls into the C++ engine to run the backward pass\u001b[39;49;00m\n\u001b[0;32m    174\u001b[0m \u001b[43m    \u001b[49m\u001b[43mtensors\u001b[49m\u001b[43m,\u001b[49m\u001b[43m \u001b[49m\u001b[43mgrad_tensors_\u001b[49m\u001b[43m,\u001b[49m\u001b[43m \u001b[49m\u001b[43mretain_graph\u001b[49m\u001b[43m,\u001b[49m\u001b[43m \u001b[49m\u001b[43mcreate_graph\u001b[49m\u001b[43m,\u001b[49m\u001b[43m \u001b[49m\u001b[43minputs\u001b[49m\u001b[43m,\u001b[49m\n\u001b[0;32m    175\u001b[0m \u001b[43m    \u001b[49m\u001b[43mallow_unreachable\u001b[49m\u001b[38;5;241;43m=\u001b[39;49m\u001b[38;5;28;43;01mTrue\u001b[39;49;00m\u001b[43m,\u001b[49m\u001b[43m \u001b[49m\u001b[43maccumulate_grad\u001b[49m\u001b[38;5;241;43m=\u001b[39;49m\u001b[38;5;28;43;01mTrue\u001b[39;49;00m\u001b[43m)\u001b[49m\n",
      "\u001b[1;31mKeyboardInterrupt\u001b[0m: "
     ]
    }
   ],
   "source": [
    "for sample_batch in valid_loader:\n",
    "    break\n",
    "\n",
    "\n",
    "\n",
    "\n",
    "best_valid_loss = 2.7257101868735196\n",
    "sample_source = ' '.join([word for word in fun_de(sample_batch[0][:, 10]) if word not in [\"<pad>\", \"<sos>\", \"<eos>\"]])\n",
    "sample_target = ' '.join([word for word in fun_en(sample_batch[1][:, 10]) if word not in [\"<pad>\", \"<sos>\", \"<eos>\"]])\n",
    "print(sample_source)\n",
    "print(sample_target)\n",
    "print(inference(model, sample_batch[0][:, 10].reshape(-1, 1)))\n",
    "\n",
    "\n",
    "\n",
    "for epoch in range(num_epochs):\n",
    "    print(f\"Epoch [{epoch} / {num_epochs}]\")\n",
    "    train_loss = Train(model, train_loader, optimizer, criterion)\n",
    "    valid_loss = Eval(model, valid_loader, criterion)\n",
    "    \n",
    "    if valid_loss < best_valid_loss:\n",
    "        best_valid_loss = valid_loss\n",
    "        torch.save(model.state_dict(), model_path)\n",
    "        \n",
    "        \n",
    "    print(f'\\t Train Loss: {train_loss:.10f}')\n",
    "    print(f'\\t Val. Loss: {valid_loss:.10f}')\n",
    "    print(sample_source)\n",
    "    print(sample_target)\n",
    "    print(inference(model, sample_batch[0][:, 10].reshape(-1, 1)))\n",
    "    "
   ]
  },
  {
   "cell_type": "code",
   "execution_count": 52,
   "id": "a46edf5c",
   "metadata": {},
   "outputs": [
    {
     "data": {
      "text/plain": [
       "2.7257101868735196"
      ]
     },
     "execution_count": 52,
     "metadata": {},
     "output_type": "execute_result"
    }
   ],
   "source": [
    "best_valid_loss"
   ]
  },
  {
   "cell_type": "code",
   "execution_count": 62,
   "id": "5d3778fd",
   "metadata": {},
   "outputs": [
    {
     "name": "stderr",
     "output_type": "stream",
     "text": [
      "Valid: 100%|█████████████████████████████| 956/956 [00:57<00:00, 16.75it/s]\n"
     ]
    }
   ],
   "source": [
    "valid_loss = Eval(model, valid_loader, criterion)"
   ]
  },
  {
   "cell_type": "code",
   "execution_count": 63,
   "id": "db111271",
   "metadata": {},
   "outputs": [
    {
     "data": {
      "text/plain": [
       "2.818299176927391"
      ]
     },
     "execution_count": 63,
     "metadata": {},
     "output_type": "execute_result"
    }
   ],
   "source": [
    "valid_loss"
   ]
  },
  {
   "cell_type": "code",
   "execution_count": null,
   "id": "51d1366b",
   "metadata": {},
   "outputs": [],
   "source": []
  },
  {
   "cell_type": "code",
   "execution_count": null,
   "id": "98f5a07d",
   "metadata": {},
   "outputs": [],
   "source": []
  },
  {
   "cell_type": "code",
   "execution_count": null,
   "id": "e6a58130",
   "metadata": {},
   "outputs": [],
   "source": []
  },
  {
   "cell_type": "code",
   "execution_count": null,
   "id": "91c94994",
   "metadata": {},
   "outputs": [],
   "source": []
  },
  {
   "cell_type": "code",
   "execution_count": null,
   "id": "ef4af4fc",
   "metadata": {},
   "outputs": [],
   "source": []
  }
 ],
 "metadata": {
  "kernelspec": {
   "display_name": "torch",
   "language": "python",
   "name": "torch"
  },
  "language_info": {
   "codemirror_mode": {
    "name": "ipython",
    "version": 3
   },
   "file_extension": ".py",
   "mimetype": "text/x-python",
   "name": "python",
   "nbconvert_exporter": "python",
   "pygments_lexer": "ipython3",
   "version": "3.10.4"
  }
 },
 "nbformat": 4,
 "nbformat_minor": 5
}
